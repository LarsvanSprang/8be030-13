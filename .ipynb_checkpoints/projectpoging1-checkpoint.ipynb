{
 "cells": [
  {
   "cell_type": "code",
   "execution_count": 4,
   "id": "b38f66ec-67a4-4e3d-8fd0-59a8f7367228",
   "metadata": {},
   "outputs": [
    {
     "name": "stdout",
     "output_type": "stream",
     "text": [
      "[[127.24193548 161.73225806 146.40322581]\n",
      " [105.94387097 105.94387097 132.76967742]] [[123.99032258 163.59032258 145.70645161]\n",
      " [104.66645161 100.83419355 132.76967742]]\n"
     ]
    }
   ],
   "source": [
    "import registration_util as util\n",
    "\n",
    "X_fixed= 'image_data/1_1_t1.tif'\n",
    "X_move= 'image_data/1_1_t1_d.tif'\n",
    "\n",
    "X, Xm = util.cpselect(X_fixed, X_move)\n",
    "\n",
    "print(X, Xm)"
   ]
  },
  {
   "cell_type": "code",
   "execution_count": 6,
   "id": "16d51517-a570-476f-85b1-74a553a51154",
   "metadata": {},
   "outputs": [
    {
     "name": "stdout",
     "output_type": "stream",
     "text": [
      "[[117.02258065 156.62258065 154.6483871 ]\n",
      " [104.66645161 102.1116129  141.7116129 ]] [[140.01612903 134.20967742 173.80967742]\n",
      " [130.21483871 114.88580645 109.77612903]]\n"
     ]
    }
   ],
   "source": [
    "import registration_util as util\n",
    "\n",
    "X_fixed= 'image_data/3_2_t1.tif'\n",
    "X_move= 'image_data/3_2_t1_d.tif'\n",
    "\n",
    "X, Xm = util.cpselect(X_fixed, X_move)\n",
    "\n",
    "print(X, Xm)"
   ]
  },
  {
   "cell_type": "code",
   "execution_count": 1,
   "id": "1812428a-5e5c-439c-9324-2352791fd1b7",
   "metadata": {},
   "outputs": [
    {
     "name": "stdout",
     "output_type": "stream",
     "text": [
      "Zieke test ouwe\n"
     ]
    }
   ],
   "source": [
    "print(\"Zieke test ouwe\")"
   ]
  },
  {
   "cell_type": "code",
   "execution_count": 1,
   "id": "ca3366b7-edec-412b-8398-889f89ddf78f",
   "metadata": {},
   "outputs": [
    {
     "name": "stdout",
     "output_type": "stream",
     "text": [
      "hallo\n"
     ]
    }
   ],
   "source": [
    "print('hallo')"
   ]
  }
 ],
 "metadata": {
  "kernelspec": {
   "display_name": "Python 3 (ipykernel)",
   "language": "python",
   "name": "python3"
  },
  "language_info": {
   "codemirror_mode": {
    "name": "ipython",
    "version": 3
   },
   "file_extension": ".py",
   "mimetype": "text/x-python",
   "name": "python",
   "nbconvert_exporter": "python",
   "pygments_lexer": "ipython3",
   "version": "3.8.20"
  }
 },
 "nbformat": 4,
 "nbformat_minor": 5
}
