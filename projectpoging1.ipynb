{
 "cells": [
  {
   "cell_type": "code",
   "execution_count": 10,
   "id": "b38f66ec-67a4-4e3d-8fd0-59a8f7367228",
   "metadata": {},
   "outputs": [
    {
     "name": "stdout",
     "output_type": "stream",
     "text": [
      "[[131.07419355 145.70645161]\n",
      " [108.49870968 134.04709677]\n",
      " [  1.           1.        ]] [[130.37741935 143.8483871 ]\n",
      " [105.94387097 135.32451613]\n",
      " [  1.           1.        ]]\n"
     ]
    },
    {
     "ename": "ValueError",
     "evalue": "setting an array element with a sequence. The requested array has an inhomogeneous shape after 1 dimensions. The detected shape was (3,) + inhomogeneous part.",
     "output_type": "error",
     "traceback": [
      "\u001b[1;31m---------------------------------------------------------------------------\u001b[0m",
      "\u001b[1;31mValueError\u001b[0m                                Traceback (most recent call last)",
      "Cell \u001b[1;32mIn[10], line 13\u001b[0m\n\u001b[0;32m     11\u001b[0m \u001b[38;5;28mprint\u001b[39m(Xh, Xmh)\n\u001b[0;32m     12\u001b[0m \u001b[38;5;66;03m# Step 2: Compute the affine transformation matrix\u001b[39;00m\n\u001b[1;32m---> 13\u001b[0m A \u001b[38;5;241m=\u001b[39m reg\u001b[38;5;241m.\u001b[39mls_affine(X, Xm)\n\u001b[0;32m     16\u001b[0m \u001b[38;5;28mprint\u001b[39m(A)\n",
      "File \u001b[1;32m~\\OneDrive - TU Eindhoven\\Year 3\\Q4\\8BE030 MIA\\8be030-13\\registration.py:184\u001b[0m, in \u001b[0;36mls_affine\u001b[1;34m(X, Xm)\u001b[0m\n\u001b[0;32m    181\u001b[0m w456, E \u001b[38;5;241m=\u001b[39m ls_solve(A, by)\n\u001b[0;32m    183\u001b[0m \u001b[38;5;66;03m#build transformation matrix\u001b[39;00m\n\u001b[1;32m--> 184\u001b[0m T \u001b[38;5;241m=\u001b[39m np\u001b[38;5;241m.\u001b[39marray([\n\u001b[0;32m    185\u001b[0m     w123,\n\u001b[0;32m    186\u001b[0m     w456,\n\u001b[0;32m    187\u001b[0m     [\u001b[38;5;241m0\u001b[39m, \u001b[38;5;241m0\u001b[39m, \u001b[38;5;241m1\u001b[39m]])\n\u001b[0;32m    188\u001b[0m \u001b[38;5;66;03m#------------------------------------------------------------------#\u001b[39;00m\n\u001b[0;32m    190\u001b[0m \u001b[38;5;28;01mreturn\u001b[39;00m T\n",
      "\u001b[1;31mValueError\u001b[0m: setting an array element with a sequence. The requested array has an inhomogeneous shape after 1 dimensions. The detected shape was (3,) + inhomogeneous part."
     ]
    }
   ],
   "source": [
    "import registration_util as util\n",
    "import registration as reg\n",
    "\n",
    "X_fixed= 'image_data/1_1_t1.tif'\n",
    "X_move= 'image_data/1_1_t1_d.tif'\n",
    "\n",
    "X, Xm = util.cpselect(X_fixed, X_move)\n",
    "\n",
    "Xh = util.c2h(X)\n",
    "Xmh = util.c2h(Xm)\n",
    "print(Xh, Xmh)\n",
    "# Step 2: Compute the affine transformation matrix\n",
    "A = reg.ls_affine(X, Xm)\n",
    "\n",
    "\n",
    "print(A)"
   ]
  },
  {
   "cell_type": "code",
   "execution_count": null,
   "id": "1812428a-5e5c-439c-9324-2352791fd1b7",
   "metadata": {},
   "outputs": [],
   "source": []
  }
 ],
 "metadata": {
  "kernelspec": {
   "display_name": "Python 3 (ipykernel)",
   "language": "python",
   "name": "python3"
  },
  "language_info": {
   "codemirror_mode": {
    "name": "ipython",
    "version": 3
   },
   "file_extension": ".py",
   "mimetype": "text/x-python",
   "name": "python",
   "nbconvert_exporter": "python",
   "pygments_lexer": "ipython3",
   "version": "3.12.7"
  }
 },
 "nbformat": 4,
 "nbformat_minor": 5
}
