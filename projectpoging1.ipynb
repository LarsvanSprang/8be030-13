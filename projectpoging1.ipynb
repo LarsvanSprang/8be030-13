{
 "cells": [
  {
   "cell_type": "code",
   "execution_count": 4,
   "id": "b38f66ec-67a4-4e3d-8fd0-59a8f7367228",
   "metadata": {},
   "outputs": [
    {
     "name": "stdout",
     "output_type": "stream",
     "text": [
      "[[129.79677419 145.70645161 145.12580645]\n",
      " [103.38903226 141.7116129  162.15032258]] [[132.93225806 143.8483871  143.1516129 ]\n",
      " [107.22129032 141.7116129  164.70516129]]\n"
     ]
    }
   ],
   "source": [
    "import registration_util as util\n",
    "\n",
    "X_fixed= 'image_data/1_1_t1.tif'\n",
    "X_move= 'image_data/1_1_t1_d.tif'\n",
    "\n",
    "X, Xm = util.cpselect(X_fixed, X_move)\n",
    "\n",
    "print(X, Xm)"
   ]
  },
  {
   "cell_type": "code",
   "execution_count": null,
   "id": "1812428a-5e5c-439c-9324-2352791fd1b7",
   "metadata": {},
   "outputs": [],
   "source": []
  }
 ],
 "metadata": {
  "kernelspec": {
   "display_name": "Python 3 (ipykernel)",
   "language": "python",
   "name": "python3"
  },
  "language_info": {
   "codemirror_mode": {
    "name": "ipython",
    "version": 3
   },
   "file_extension": ".py",
   "mimetype": "text/x-python",
   "name": "python",
   "nbconvert_exporter": "python",
   "pygments_lexer": "ipython3",
   "version": "3.12.7"
  }
 },
 "nbformat": 4,
 "nbformat_minor": 5
}
